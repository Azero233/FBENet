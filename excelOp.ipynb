{
 "cells": [
  {
   "cell_type": "code",
   "execution_count": 1,
   "id": "890773f9",
   "metadata": {},
   "outputs": [
    {
     "name": "stdout",
     "output_type": "stream",
     "text": [
      "3.1.2\n"
     ]
    }
   ],
   "source": [
    "import openpyxl\n",
    "print(openpyxl.__version__)"
   ]
  },
  {
   "cell_type": "code",
   "execution_count": 8,
   "id": "e789d7f7",
   "metadata": {},
   "outputs": [
    {
     "data": {
      "text/plain": [
       "<openpyxl.workbook.workbook.Workbook at 0x1421eb02350>"
      ]
     },
     "execution_count": 8,
     "metadata": {},
     "output_type": "execute_result"
    }
   ],
   "source": [
    "wb = openpyxl.load_workbook('./mails.xlsx')\n",
    "wb"
   ]
  },
  {
   "cell_type": "code",
   "execution_count": 9,
   "id": "71661624",
   "metadata": {},
   "outputs": [
    {
     "data": {
      "text/plain": [
       "['Sheet1']"
      ]
     },
     "execution_count": 9,
     "metadata": {},
     "output_type": "execute_result"
    }
   ],
   "source": [
    "wb.sheetnames"
   ]
  },
  {
   "cell_type": "code",
   "execution_count": 10,
   "id": "9760bb1c",
   "metadata": {},
   "outputs": [
    {
     "data": {
      "text/plain": [
       "<Worksheet \"Sheet1\">"
      ]
     },
     "execution_count": 10,
     "metadata": {},
     "output_type": "execute_result"
    }
   ],
   "source": [
    "sheet = wb['Sheet1']\n",
    "sheet"
   ]
  },
  {
   "cell_type": "code",
   "execution_count": 11,
   "id": "4b4d6869",
   "metadata": {},
   "outputs": [
    {
     "data": {
      "text/plain": [
       "<Worksheet \"Sheet1\">"
      ]
     },
     "execution_count": 11,
     "metadata": {},
     "output_type": "execute_result"
    }
   ],
   "source": [
    "wb.active"
   ]
  },
  {
   "cell_type": "code",
   "execution_count": 12,
   "id": "a3328fea",
   "metadata": {},
   "outputs": [
    {
     "data": {
      "text/plain": [
       "<Cell 'Sheet1'.A1>"
      ]
     },
     "execution_count": 12,
     "metadata": {},
     "output_type": "execute_result"
    }
   ],
   "source": [
    "cell = sheet['A1']\n",
    "cell"
   ]
  },
  {
   "cell_type": "code",
   "execution_count": 13,
   "id": "1f7d6357",
   "metadata": {},
   "outputs": [
    {
     "name": "stdout",
     "output_type": "stream",
     "text": [
      "544694396\n",
      "1\n",
      "1\n",
      "A1\n"
     ]
    }
   ],
   "source": [
    "print(cell.value)\n",
    "print(cell.row)\n",
    "print(cell.column)\n",
    "print(cell.coordinate)"
   ]
  },
  {
   "cell_type": "code",
   "execution_count": 14,
   "id": "e12db7df",
   "metadata": {},
   "outputs": [
    {
     "name": "stdout",
     "output_type": "stream",
     "text": [
      "@\n",
      "B1\n"
     ]
    }
   ],
   "source": [
    "cell = sheet.cell(row=1, column=2)\n",
    "print(cell.value)\n",
    "print(cell.coordinate)"
   ]
  },
  {
   "cell_type": "code",
   "execution_count": 21,
   "id": "762ba002",
   "metadata": {},
   "outputs": [
    {
     "name": "stdout",
     "output_type": "stream",
     "text": [
      "A1 544694396\n",
      "B1 @\n",
      "C1 qq.com\n",
      "A2 None\n",
      "B2 None\n",
      "C2 None\n"
     ]
    }
   ],
   "source": [
    "for cell_row in sheet['A1':'C2']:\n",
    "    for cell in cell_row:\n",
    "        print(cell.coordinate, cell.value)"
   ]
  },
  {
   "cell_type": "code",
   "execution_count": 23,
   "id": "25db13f0",
   "metadata": {},
   "outputs": [
    {
     "name": "stdout",
     "output_type": "stream",
     "text": [
      "A1 544694396\n",
      "B1 @\n",
      "C1 qq.com\n"
     ]
    }
   ],
   "source": [
    "for cell in list(sheet.rows)[0]:\n",
    "    # 上面的代码表示遍历第一行\n",
    "    print(cell.coordinate, cell.value)"
   ]
  },
  {
   "cell_type": "code",
   "execution_count": 24,
   "id": "d2b0d98a",
   "metadata": {},
   "outputs": [
    {
     "name": "stdout",
     "output_type": "stream",
     "text": [
      "A1 544694396\n",
      "A2 None\n",
      "A3 None\n"
     ]
    }
   ],
   "source": [
    "for cell in list(sheet.columns)[0]:\n",
    "    # 上面的代码表示遍历第一列\n",
    "    print(cell.coordinate, cell.value)"
   ]
  },
  {
   "cell_type": "code",
   "execution_count": 1,
   "id": "d5f64067",
   "metadata": {},
   "outputs": [
    {
     "name": "stdout",
     "output_type": "stream",
     "text": [
      "打开工作簿\n",
      "读取每行记录\n",
      "写入结果\n",
      "完成\n"
     ]
    }
   ],
   "source": [
    "import openpyxl, pprint\n",
    "print(\"打开工作簿\")\n",
    "\n",
    "wb = openpyxl.load_workbook(\"county.xlsx\")\n",
    "sheet = wb['P']\n",
    "\n",
    "countyData = {}# 字典\n",
    "print(\"读取每行记录\")\n",
    "\n",
    "for row in range(2, sheet.max_row + 1):\n",
    "    state = sheet['B' + str(row)].value\n",
    "    county = sheet['C' + str(row)].value\n",
    "    pop = sheet['D' + str(row)].value\n",
    "    # setdefault 如果键不存在于字典中，将会添加键并将值设为默认值\n",
    "    countyData.setdefault(state, {})\n",
    "    countyData[state].setdefault(county, {'tracts':0, 'pop':0})\n",
    "    countyData[state][county]['tracts'] += 1\n",
    "    countyData[state][county]['pop'] += int(pop)\n",
    "\n",
    "print('写入结果')\n",
    "resultFile = open('census2010.py', 'w')\n",
    "resultFile.write('allData = ' + pprint.pformat(countyData))\n",
    "resultFile.write('\\n')\n",
    "resultFile.write('allData = ' + pprint.pformat(countyData))\n",
    "resultFile.close()\n",
    "print('完成')"
   ]
  },
  {
   "cell_type": "code",
   "execution_count": 9,
   "id": "c492d050",
   "metadata": {},
   "outputs": [
    {
     "data": {
      "text/plain": [
       "{'pop': 13903, 'tracts': 4}"
      ]
     },
     "execution_count": 9,
     "metadata": {},
     "output_type": "execute_result"
    }
   ],
   "source": [
    "import census2010\n",
    "census2010.allData['AA']['A']"
   ]
  },
  {
   "cell_type": "markdown",
   "id": "d07849c9",
   "metadata": {},
   "source": [
    "往excel写数据"
   ]
  },
  {
   "cell_type": "code",
   "execution_count": 2,
   "id": "0bb0534e",
   "metadata": {},
   "outputs": [
    {
     "name": "stdout",
     "output_type": "stream",
     "text": [
      "<openpyxl.workbook.workbook.Workbook object at 0x0000025A6B77C850>\n"
     ]
    }
   ],
   "source": [
    "import openpyxl\n",
    "#创建一个新的工作簿对象\n",
    "wb = openpyxl.Workbook()\n",
    "print(wb)"
   ]
  },
  {
   "cell_type": "code",
   "execution_count": 5,
   "id": "0f10e1a6",
   "metadata": {},
   "outputs": [
    {
     "data": {
      "text/plain": [
       "['哈哈']"
      ]
     },
     "execution_count": 5,
     "metadata": {},
     "output_type": "execute_result"
    }
   ],
   "source": [
    "wb.sheetnames"
   ]
  },
  {
   "cell_type": "code",
   "execution_count": 4,
   "id": "10b6ff86",
   "metadata": {},
   "outputs": [],
   "source": [
    "#修改工作簿名字\n",
    "wb.active.title = '哈哈'"
   ]
  },
  {
   "cell_type": "code",
   "execution_count": 6,
   "id": "128d3fe5",
   "metadata": {},
   "outputs": [],
   "source": [
    "#保存工作簿\n",
    "wb.save('123.xlsx')"
   ]
  },
  {
   "cell_type": "code",
   "execution_count": 10,
   "id": "84184459",
   "metadata": {},
   "outputs": [],
   "source": [
    "#创建工作簿\n",
    "wb = openpyxl.load_workbook(\"123.xlsx\")\n",
    "wb.create_sheet(title='销售记录')\n",
    "wb.create_sheet(index=1, title='养殖技术')#index从0开始\n",
    "wb.save('123.xlsx')"
   ]
  },
  {
   "cell_type": "code",
   "execution_count": 11,
   "id": "e32b2b71",
   "metadata": {},
   "outputs": [],
   "source": [
    "#删除工作簿\n",
    "wb = openpyxl.load_workbook(\"123.xlsx\")\n",
    "del wb['哈哈']\n",
    "wb.save('123.xlsx')"
   ]
  },
  {
   "cell_type": "code",
   "execution_count": 12,
   "id": "4df01cdc",
   "metadata": {},
   "outputs": [],
   "source": [
    "#写入单元格\n",
    "wb = openpyxl.load_workbook(\"123.xlsx\")\n",
    "sheet = wb['销售记录']\n",
    "sheet['A1'] = 'hello'\n",
    "sheet['B2'] = 'world'\n",
    "wb.save('123.xlsx')"
   ]
  },
  {
   "cell_type": "code",
   "execution_count": 22,
   "id": "efc5bd84",
   "metadata": {},
   "outputs": [],
   "source": [
    "wb = openpyxl.load_workbook(\"123.xlsx\")\n",
    "sheet = wb['销售记录']\n",
    "cell = sheet['A2']\n",
    "cell.value = '123123123'\n",
    "wb.save('123.xlsx')"
   ]
  },
  {
   "cell_type": "markdown",
   "id": "cad20086",
   "metadata": {},
   "source": [
    "更新字段实例"
   ]
  },
  {
   "cell_type": "code",
   "execution_count": null,
   "id": "a5235733",
   "metadata": {},
   "outputs": [],
   "source": [
    "import openpyxl\n",
    "wb = openpyxl.load_workbook(\"produceSales.xlsx\")#这个工作簿不存在\n",
    "sheet = wb['Sheet']\n",
    "PRICE_UPDATES = {'Garlic':3.07, 'Celery':1.19, 'Lemon':1.27, }\n",
    "for rowNum in range(2, sheet.max_rowax+1):\n",
    "    produceName = sheet.cell(row=rowNum, column=1).value\n",
    "    if produceName in PRICE_UPDATES:\n",
    "        sheet.cell(row=rowNum, column=2).value = PRICE_UPDATES[produceName]\n",
    "wb.save('produceSales.xlsx')"
   ]
  }
 ],
 "metadata": {
  "kernelspec": {
   "display_name": "Python 3.10 (ipykernel)",
   "language": "python",
   "name": "python3"
  },
  "language_info": {
   "codemirror_mode": {
    "name": "ipython",
    "version": 3
   },
   "file_extension": ".py",
   "mimetype": "text/x-python",
   "name": "python",
   "nbconvert_exporter": "python",
   "pygments_lexer": "ipython3",
   "version": "3.10.2"
  }
 },
 "nbformat": 4,
 "nbformat_minor": 5
}
